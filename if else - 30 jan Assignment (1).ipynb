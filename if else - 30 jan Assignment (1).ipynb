{
 "cells": [
  {
   "cell_type": "markdown",
   "id": "60ced857-4d1d-4f83-b0bb-e0b4dd1c7dab",
   "metadata": {},
   "source": [
    "# 1. Write a program to accept percentage from the user and display the grade according to the following criteria:\n",
    "Marks\n",
    "Grade\n",
    ">90\n",
    "A\n",
    ">80 and < 90\n",
    "B\n",
    ">=60 and <=80\n",
    "C\n",
    "below 60\n",
    "D"
   ]
  },
  {
   "cell_type": "code",
   "execution_count": 5,
   "id": "be3d263e-bcbc-4f15-90dc-4be0bdbc81a0",
   "metadata": {},
   "outputs": [
    {
     "name": "stdin",
     "output_type": "stream",
     "text": [
      "please enter percentage =  56\n"
     ]
    },
    {
     "name": "stdout",
     "output_type": "stream",
     "text": [
      "You got grade D\n"
     ]
    }
   ],
   "source": [
    "per = float(input(\"please enter percentage = \"))\n",
    "if per>90:\n",
    "    print(\"You got grade A\")\n",
    "elif 80<per<=90:\n",
    "    print(\"You got grade B\")\n",
    "elif 60<=per<=80:\n",
    "    print(\"You got grade C\")\n",
    "else:\n",
    "    print(\"You got grade D\")"
   ]
  },
  {
   "cell_type": "markdown",
   "id": "e39797a0-f05d-4288-a356-2528e5780088",
   "metadata": {},
   "source": [
    "# Q 2 Write a program to accept the cost price of a bike and display the road tax to be paid according to the following criteria:\n",
    "Tax     Cost Price(in Rs)\n",
    "15%        >100000\n",
    "10%        >50000 and <= 100000\n",
    "5%         <= 50000\n"
   ]
  },
  {
   "cell_type": "code",
   "execution_count": 6,
   "id": "1f5b4110-7f35-47c8-849f-8b3b118799d6",
   "metadata": {},
   "outputs": [
    {
     "name": "stdin",
     "output_type": "stream",
     "text": [
      "Please enter the cost of bike :  6252\n"
     ]
    },
    {
     "name": "stdout",
     "output_type": "stream",
     "text": [
      "you have to be paid road tax 10% \n"
     ]
    }
   ],
   "source": [
    "bike=int(input(\"Please enter the cost of bike : \"))\n",
    "if bike>10000:\n",
    "    print(\"you have to be paid road tax 15% \")\n",
    "elif 10000>=bike>5000:\n",
    "    print(\"you have to be paid road tax 10% \")\n",
    "else:\n",
    "    print(\"you have to be paid road tax 5% \")"
   ]
  },
  {
   "cell_type": "markdown",
   "id": "05236b98-c275-491d-bae2-26998829f370",
   "metadata": {},
   "source": [
    "# Q3 ccept any city from the user and display monuments of that city.\n",
    "City\n",
    "Delhi\n",
    "Agra\n",
    "Jaipur\n",
    "\n",
    "\n",
    "Monument \n",
    "Red Fort\n",
    "Taj Mahal\n",
    "Jal Mahal"
   ]
  },
  {
   "cell_type": "code",
   "execution_count": 12,
   "id": "371436d0-7dee-4d88-a876-08922c75254a",
   "metadata": {},
   "outputs": [
    {
     "name": "stdin",
     "output_type": "stream",
     "text": [
      "please enter the city from this  (Delhi, Agra, Jaipur) :  hsadbhkabs\n"
     ]
    },
    {
     "name": "stdout",
     "output_type": "stream",
     "text": [
      "please select the right option\n"
     ]
    }
   ],
   "source": [
    "place=input(\"please enter the city from this  (Delhi, Agra, Jaipur) : \")\n",
    "if place==\"Delhi\":\n",
    "    print(\"the monument in Delhi is  Red fort\")\n",
    "elif place==\"Agra\":\n",
    "    print(\"the monument in Agra is  Taj mahal\")\n",
    "elif place==\"Jaipur\":\n",
    "    print(\"the monument in Jaipur is  Jal Mahal\")\n",
    "else:\n",
    "    print(\"please select the right option\")"
   ]
  },
  {
   "cell_type": "markdown",
   "id": "f636c1b3-2321-4447-87f2-94d8b64f8cf7",
   "metadata": {},
   "source": [
    "# Q4   Check how many times a given number can be divided by 3 before it is less than or equal to 10."
   ]
  },
  {
   "cell_type": "code",
   "execution_count": 4,
   "id": "7dafff70-4014-4b2c-986a-75d64ed9abee",
   "metadata": {},
   "outputs": [
    {
     "name": "stdin",
     "output_type": "stream",
     "text": [
      "enter the no :  15\n"
     ]
    },
    {
     "name": "stdout",
     "output_type": "stream",
     "text": [
      "the number can divided by  1\n"
     ]
    }
   ],
   "source": [
    "num=int(input(\"enter the no : \"))\n",
    "count=0\n",
    "while num>10:\n",
    "    num=num/3\n",
    "    count+=1\n",
    "print(\"the number can divided by \", count)"
   ]
  },
  {
   "cell_type": "markdown",
   "id": "6d381e9c-48e1-471d-b55c-9d201be0ea7a",
   "metadata": {},
   "source": [
    "# Q5 Why and When to Use while Loop in Python give a detailed description with example"
   ]
  },
  {
   "cell_type": "markdown",
   "id": "a6dfbd53-2958-41f7-9560-bda4bbae37ea",
   "metadata": {},
   "source": [
    "A while loop is a control flow statement in Python that repeatedly executes a block of code as long as a specified condition is true. "
   ]
  },
  {
   "cell_type": "markdown",
   "id": "f8a01625-3371-483d-aa79-e97d75ce8e14",
   "metadata": {},
   "source": [
    "A while loop is useful when you want to repeat a block of code while a certain condition is true. For example, you might use a while loop to read input from the user until they enter a valid value, or to process a list of items until a certain condition is met."
   ]
  },
  {
   "cell_type": "markdown",
   "id": "589f21c7-5d95-44f3-aaf0-6d1b406d7bca",
   "metadata": {},
   "source": [
    "Here's another example that uses a while loop to process a list of items until a certain condition is met:"
   ]
  },
  {
   "cell_type": "code",
   "execution_count": 7,
   "id": "cd5b68f0-69a6-4c34-a211-efca525f0088",
   "metadata": {},
   "outputs": [
    {
     "name": "stdout",
     "output_type": "stream",
     "text": [
      "processing item  apple\n",
      "processing item  banana\n"
     ]
    }
   ],
   "source": [
    "items = [\"apple\", \"banana\", \"orange\", \"grape\"]\n",
    "i=0\n",
    "while i<len(items):\n",
    "    if items[i]==\"orange\":\n",
    "        break\n",
    "    print(\"processing item \" ,items[i]) \n",
    "    i += 1"
   ]
  },
  {
   "cell_type": "markdown",
   "id": "ddf0a907-56b3-402d-8043-eeccaa9a28f7",
   "metadata": {},
   "source": [
    "# Q6  Use nested while loop to print 3 different pattern."
   ]
  },
  {
   "cell_type": "code",
   "execution_count": 2,
   "id": "ab51fd4a-d181-4778-9114-e6e81a097dc1",
   "metadata": {},
   "outputs": [
    {
     "name": "stdout",
     "output_type": "stream",
     "text": [
      "*\n",
      "**\n",
      "***\n",
      "****\n",
      "*****\n"
     ]
    }
   ],
   "source": [
    "#Right Triangle\n",
    "i=1\n",
    "while i<=5:\n",
    "    print(i*\"*\")\n",
    "    i+=1"
   ]
  },
  {
   "cell_type": "code",
   "execution_count": 4,
   "id": "8e55b88b-0685-4230-92f3-7058a2360932",
   "metadata": {},
   "outputs": [
    {
     "name": "stdout",
     "output_type": "stream",
     "text": [
      "  *\n",
      " ***\n",
      "*****\n",
      " ***\n",
      "  *\n"
     ]
    }
   ],
   "source": [
    "# Diamond\n",
    "row = 1\n",
    "while row <= 3:\n",
    "    col = 1\n",
    "    while col <= (3 - row):\n",
    "        print(' ', end='')\n",
    "        col += 1\n",
    "    col = 1\n",
    "    while col <= (2 * row - 1):\n",
    "        print('*', end='')\n",
    "        col += 1\n",
    "    print()\n",
    "    row += 1\n",
    "\n",
    "row = 2\n",
    "while row >= 1:\n",
    "    col = 1\n",
    "    while col <= (3 - row):\n",
    "        print(' ', end='')\n",
    "        col += 1\n",
    "    col = 1\n",
    "    while col <= (2 * row - 1):\n",
    "        print('*', end='')\n",
    "        col += 1\n",
    "    print()\n",
    "    row -= 1"
   ]
  },
  {
   "cell_type": "code",
   "execution_count": 5,
   "id": "893d3420-19bb-45ba-98dd-705358e7a835",
   "metadata": {},
   "outputs": [
    {
     "name": "stdout",
     "output_type": "stream",
     "text": [
      "*****\n",
      "*****\n",
      "*****\n",
      "*****\n",
      "*****\n"
     ]
    }
   ],
   "source": [
    "# squre\n",
    "row = 1\n",
    "while row <= 5:\n",
    "    col = 1\n",
    "    while col <= 5:\n",
    "        print('*', end='')\n",
    "        col += 1\n",
    "    print()\n",
    "    row += 1"
   ]
  },
  {
   "cell_type": "markdown",
   "id": "57c2b50a-2691-470a-b96e-f41648770de8",
   "metadata": {},
   "source": [
    "# Q7  Reverse a while loop to display numbers from 10 to 1"
   ]
  },
  {
   "cell_type": "code",
   "execution_count": 3,
   "id": "8b1b1abb-a6c4-4bd8-bf4e-bcafe41d9000",
   "metadata": {},
   "outputs": [
    {
     "name": "stdout",
     "output_type": "stream",
     "text": [
      "10\n",
      "9\n",
      "8\n",
      "7\n",
      "6\n",
      "5\n",
      "4\n",
      "3\n",
      "2\n",
      "1\n"
     ]
    }
   ],
   "source": [
    "i=10\n",
    "while i>0:\n",
    "    print(i)\n",
    "    i-=1"
   ]
  },
  {
   "cell_type": "code",
   "execution_count": null,
   "id": "5a43b97f-e358-48c3-bb90-d22365d95584",
   "metadata": {},
   "outputs": [],
   "source": []
  }
 ],
 "metadata": {
  "kernelspec": {
   "display_name": "Python 3 (ipykernel)",
   "language": "python",
   "name": "python3"
  },
  "language_info": {
   "codemirror_mode": {
    "name": "ipython",
    "version": 3
   },
   "file_extension": ".py",
   "mimetype": "text/x-python",
   "name": "python",
   "nbconvert_exporter": "python",
   "pygments_lexer": "ipython3",
   "version": "3.10.8"
  }
 },
 "nbformat": 4,
 "nbformat_minor": 5
}
